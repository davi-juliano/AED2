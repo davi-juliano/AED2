{
  "nbformat": 4,
  "nbformat_minor": 0,
  "metadata": {
    "colab": {
      "name": "Trabalho_Computacional-2.ipynb",
      "provenance": [],
      "collapsed_sections": [],
      "toc_visible": true
    },
    "kernelspec": {
      "name": "python3",
      "display_name": "Python 3"
    }
  },
  "cells": [
    {
      "cell_type": "markdown",
      "metadata": {
        "id": "X_0mCq28W56G"
      },
      "source": [
        "# Importações do Python para o código -"
      ]
    },
    {
      "cell_type": "code",
      "metadata": {
        "id": "A-bWEJ7NW5JB"
      },
      "source": [
        "import sys\r\n",
        "import time\r\n",
        "from IPython.display import Image"
      ],
      "execution_count": null,
      "outputs": []
    },
    {
      "cell_type": "markdown",
      "metadata": {
        "id": "upNBv3XZXFkV"
      },
      "source": [
        "# Estrutura de Dados e Funções Importantes - "
      ]
    },
    {
      "cell_type": "markdown",
      "metadata": {
        "id": "Dbe6y-79XOCu"
      },
      "source": [
        "Primeiramente, será definida a árvore B, ou seja:"
      ]
    },
    {
      "cell_type": "code",
      "metadata": {
        "id": "6_xBBu2xXNgC"
      },
      "source": [
        "\"\"\"\r\n",
        "author = Mateor\r\n",
        "referência(github) = https://gist.github.com/mateor/885eb950df7231f178a5\r\n",
        "Sujeito a algumas alterações por Davi Juliano para adaptação ao projeto\r\n",
        "PYTHON 3.3.5\r\n",
        "\"\"\"\r\n",
        "\r\n",
        "from __future__ import (nested_scopes, generators, division, absolute_import, with_statement,\r\n",
        "                        print_function, unicode_literals)\r\n",
        "\r\n",
        "\r\n",
        "class BTree(object):\r\n",
        "  \"\"\"A implementação da Árvore B com funções de busca e inserção. Capaz para qualquer ordem t\"\"\"\r\n",
        "\r\n",
        "  class Node(object):\r\n",
        "    \"\"\"Um simples nó da Árvore B.\"\"\"\r\n",
        "\r\n",
        "    def __init__(self, t):\r\n",
        "      self.keys = []\r\n",
        "      self.children = []\r\n",
        "      self.leaf = True\r\n",
        "      # t é a ordem de parentesco da Árvore B. Nós precisam ter esse valor para definir tamanho máximo e splitting.\r\n",
        "      self._t = t\r\n",
        "\r\n",
        "    def split(self, parent, payload):\r\n",
        "      \"\"\"Splita um nó e reatribui chaves/filhos.\"\"\"\r\n",
        "      new_node = self.__class__(self._t)\r\n",
        "\r\n",
        "      mid_point = self.size//2\r\n",
        "      split_value = self.keys[mid_point]\r\n",
        "      parent.add_key(split_value)\r\n",
        "\r\n",
        "      # Adiciona chaves e filhos para o nó apropriado\r\n",
        "      new_node.children = self.children[mid_point + 1:]\r\n",
        "      self.children = self.children[:mid_point + 1]\r\n",
        "      new_node.keys = self.keys[mid_point+1:]\r\n",
        "      self.keys = self.keys[:mid_point]\r\n",
        "\r\n",
        "      # Se o novo nó é filho, ele faz \"seta\" como nó interno\r\n",
        "      if len(new_node.children) > 0:\r\n",
        "        new_node.leaf = False\r\n",
        "\r\n",
        "      parent.children = parent.add_child(new_node)\r\n",
        "      if payload < split_value:\r\n",
        "        return self\r\n",
        "      else:\r\n",
        "        return new_node\r\n",
        "\r\n",
        "    @property\r\n",
        "    def _is_full(self):\r\n",
        "      return self.size == 2 * self._t - 1\r\n",
        "\r\n",
        "    @property\r\n",
        "    def size(self):\r\n",
        "      return len(self.keys)\r\n",
        "\r\n",
        "    def add_key(self, value):\r\n",
        "      \"\"\"Adiciona uma chave ao nó. Por definição, o nó terá espaço para a chave.\"\"\"\r\n",
        "      self.keys.append(value)\r\n",
        "      self.keys.sort()\r\n",
        "\r\n",
        "    def add_child(self, new_node):\r\n",
        "      \"\"\"\r\n",
        "      Adiciona um filho a um nó. Isso classificará os filhos do nó, permitindo que os filhos\r\n",
        "      sejam ordenados mesmo após a divisão dos nós do meio.\r\n",
        "      Retorna uma lista de ordem de nós filhos\r\n",
        "      \"\"\"\r\n",
        "      i = len(self.children) - 1\r\n",
        "      while i >= 0 and self.children[i].keys[0] > new_node.keys[0]:\r\n",
        "        i -= 1\r\n",
        "      return self.children[:i + 1]+ [new_node] + self.children[i + 1:]\r\n",
        "\r\n",
        "\r\n",
        "  def __init__(self, t):\r\n",
        "    \"\"\"\r\n",
        "    Cria a Árvore B. t é a ordem da árvore. A árvore não tem chaves quando criada.\r\n",
        "    Esta implementação permite valores-chave duplicados, embora isso não tenha sido verificado\r\n",
        "    vigorosamente.\r\n",
        "    \"\"\"\r\n",
        "    self._t = t\r\n",
        "    if self._t <= 1:\r\n",
        "      raise ValueError(\"A Árvore B precisa ter ordem 2 ou mais.\")\r\n",
        "    self.root = self.Node(t)\r\n",
        "\r\n",
        "  def insert(self, payload):\r\n",
        "    \"\"\"Insere uma nova chave de valor na Árvore B.\"\"\"\r\n",
        "    node = self.root\r\n",
        "    # A raiz é tratada explicitamente, pois requer a criação de 2 novos nós em vez do usual.\r\n",
        "    if node._is_full:\r\n",
        "      new_root = self.Node(self._t)\r\n",
        "      new_root.children.append(self.root)\r\n",
        "      new_root.leaf = False\r\n",
        "      #o nó está sendo definido como o nó que contém os intervalos que desejamos para a inserção (Devido à ordem dos elementos)\r\n",
        "      node = node.split(new_root, payload)\r\n",
        "      self.root = new_root\r\n",
        "    while not node.leaf:\r\n",
        "      i = node.size - 1\r\n",
        "      while i > 0 and payload < node.keys[i] :\r\n",
        "        i -= 1\r\n",
        "      if payload > node.keys[i]:\r\n",
        "        i += 1\r\n",
        "\r\n",
        "      next = node.children[i]\r\n",
        "      if next._is_full:\r\n",
        "        node = next.split(node, payload)\r\n",
        "      else:\r\n",
        "        node = next\r\n",
        "    #Desde que nós splitamos todos os nós cheios em novos nós, nós podemos simplesmente inserir os valores na folha.\r\n",
        "    node.add_key(payload)\r\n",
        "\r\n",
        "  def search(self, value, node=None):\r\n",
        "    \"\"\"Retorna 1 se a Árvore B contiver uma chave que corresponda ao valor e 0 no contrário.\"\"\"\r\n",
        "    if node is None:\r\n",
        "      node = self.root\r\n",
        "    if value in node.keys:\r\n",
        "      return 1\r\n",
        "    elif node.leaf:\r\n",
        "      #Se estivermos em uma folha, não há mais o que verificar.\r\n",
        "      return 0\r\n",
        "    else:\r\n",
        "      i = 0\r\n",
        "      while i < node.size and value > node.keys[i]:\r\n",
        "        i += 1\r\n",
        "      return self.search(value, node.children[i])\r\n",
        "\r\n",
        "  def print_order(self):\r\n",
        "    \"\"\"Imprima uma representação de ordem de nível.\"\"\"\r\n",
        "    this_level = [self.root]\r\n",
        "    while this_level:\r\n",
        "      next_level = []\r\n",
        "      output = \"\"\r\n",
        "      for node in this_level:\r\n",
        "        if node.children:\r\n",
        "          next_level.extend(node.children)\r\n",
        "        output += str(node.keys) + \" \"\r\n",
        "      print(output)\r\n",
        "      this_level = next_level"
      ],
      "execution_count": null,
      "outputs": []
    },
    {
      "cell_type": "markdown",
      "metadata": {
        "id": "r8f81M_GXdcX"
      },
      "source": [
        "Agora serão definidas as funções que irão lidar com a estrutura de dados, com o plot das imagens e com sua submissão na Árvore B, ou seja:"
      ]
    },
    {
      "cell_type": "code",
      "metadata": {
        "id": "LbruRt1vXdNr"
      },
      "source": [
        "def insere_catalogo(arvore, string):\r\n",
        "  for i in range(1,6):\r\n",
        "    arvore.insert(string+str(i))\r\n",
        "\r\n",
        "def printa_imagem(string):\r\n",
        "  display(Image(string+'.jpg'))\r\n",
        "\r\n",
        "def procura_nome_na_Arv_B(arvore, string):\r\n",
        "  a = arvore.search(string)\r\n",
        "  if a == 1:\r\n",
        "    print(\"O nó\", string , \"foi encontrado\\n\")\r\n",
        "    printa_imagem(string)\r\n",
        "  else:\r\n",
        "    print(\"O nó\", string, \"não foi encontrado\\n\")\r\n",
        "\r\n",
        "def procura_na_Arv_B(arvore, string):\r\n",
        "  for i in range(1,6):\r\n",
        "    auxstr = string+str(i)\r\n",
        "    a = arvore.search(auxstr)\r\n",
        "    if a == 1:\r\n",
        "      print(\"O nó\", auxstr , \"foi encontrado\\n\")\r\n",
        "      printa_imagem(auxstr)\r\n",
        "    else:\r\n",
        "      print(\"O nó\", auxstr, \"não foi encontrado\\n\")"
      ],
      "execution_count": null,
      "outputs": []
    },
    {
      "cell_type": "markdown",
      "metadata": {
        "id": "-pTlRlQIX5vJ"
      },
      "source": [
        "# Aplicação na Árvore B - "
      ]
    },
    {
      "cell_type": "markdown",
      "metadata": {
        "id": "fA5wl7xdYD2n"
      },
      "source": [
        "Primeiramente, a criação de uma árvore B de ordem 3, e lidaremos com a inserção de tão somente uma imagem no banco de imagens e o plot da mesma, além da análise de complexidade:"
      ]
    },
    {
      "cell_type": "code",
      "metadata": {
        "colab": {
          "base_uri": "https://localhost:8080/",
          "height": 442
        },
        "id": "2tKMJC3QYAU6",
        "outputId": "c16f1c3c-60d8-423a-ba5c-76106b8ebd90"
      },
      "source": [
        "####Criação da Árvore B no problema dado, ou seja, Árvore B com t=3####\r\n",
        "arv = BTree(3)\r\n",
        "\r\n",
        "####Inserção de uma imagem à árvore####\r\n",
        "ini=time.time()\r\n",
        "nome='caderno1'\r\n",
        "arv.insert(nome)\r\n",
        "fim=time.time()\r\n",
        "\r\n",
        "print(f'Tempo de execução da inserção da imagem: {fim-ini} segundos')\r\n",
        "\r\n",
        "####Print da árvore com 1 elemento####\r\n",
        "arv.print_order()\r\n",
        "\r\n",
        "####Print da imagem e da árvore B####\r\n",
        "ini=time.time()\r\n",
        "procura_nome_na_Arv_B(arv, nome)\r\n",
        "fim=time.time()\r\n",
        "\r\n",
        "print(f'Tempo de execução da busca e do plot da imagem: {fim-ini} segundos')"
      ],
      "execution_count": null,
      "outputs": [
        {
          "output_type": "stream",
          "text": [
            "Tempo de execução da inserção da imagem: 7.915496826171875e-05 segundos\n",
            "['caderno1'] \n",
            "O nó caderno1 foi encontrado\n",
            "\n"
          ],
          "name": "stdout"
        },
        {
          "output_type": "display_data",
          "data": {
            "image/jpeg": "[encoded data removed]",
            "text/plain": [
              "<IPython.core.display.Image object>"
            ]
          },
          "metadata": {
            "tags": []
          }
        },
        {
          "output_type": "stream",
          "text": [
            "Tempo de execução da busca e do plot da imagem: 0.006859540939331055 segundos\n"
          ],
          "name": "stdout"
        }
      ]
    },
    {
      "cell_type": "markdown",
      "metadata": {
        "id": "J7mDYi-GYXR9"
      },
      "source": [
        "Agora iremos adicionar todos os catálogos e buscar um catálogo a gosto do usuário:"
      ]
    },
    {
      "cell_type": "code",
      "metadata": {
        "colab": {
          "base_uri": "https://localhost:8080/"
        },
        "id": "FLrneYgtYc_s",
        "outputId": "b2f73147-c008-4f01-8626-ecb59d21416e"
      },
      "source": [
        "####Criação da Árvore B no problema dado, ou seja, Árvore B com t=3####\r\n",
        "arvore = BTree(3)\r\n",
        "\r\n",
        "####Inserir todos as imagens na árvore B usando do repositório e pasta do Colab-Google####\r\n",
        "ini=time.time()\r\n",
        "\r\n",
        "insere_catalogo(arvore, 'gato')\r\n",
        "insere_catalogo(arvore, 'cafe')\r\n",
        "insere_catalogo(arvore, 'camera')\r\n",
        "insere_catalogo(arvore, 'computador')\r\n",
        "insere_catalogo(arvore, 'diversao')\r\n",
        "insere_catalogo(arvore, 'doce')\r\n",
        "insere_catalogo(arvore, 'flor_amarela')\r\n",
        "insere_catalogo(arvore, 'flor_branca')\r\n",
        "insere_catalogo(arvore, 'flor_rosa')\r\n",
        "insere_catalogo(arvore, 'flor_roxa')\r\n",
        "insere_catalogo(arvore, 'frutas')\r\n",
        "insere_catalogo(arvore, 'mesa')\r\n",
        "insere_catalogo(arvore, 'neve')\r\n",
        "insere_catalogo(arvore, 'notebook')\r\n",
        "insere_catalogo(arvore, 'objeto')\r\n",
        "insere_catalogo(arvore, 'pessoas_flor')\r\n",
        "insere_catalogo(arvore, 'pincel')\r\n",
        "insere_catalogo(arvore, 'pipoca')\r\n",
        "insere_catalogo(arvore, 'tecnologia')\r\n",
        "insere_catalogo(arvore, 'trabalho')\r\n",
        "\r\n",
        "fim= time.time()\r\n",
        "\r\n",
        "print(f'Tempo de execução da inserção dos catálogos: {fim-ini} segundos')\r\n",
        "\r\n",
        "####Após inserir, iremos verificar como está a Árvore B, e fica aparente a altura da mesma também####\r\n",
        "arvore.print_order()"
      ],
      "execution_count": null,
      "outputs": [
        {
          "output_type": "stream",
          "text": [
            "Tempo de execução da inserção dos catálogos: 0.0007679462432861328 segundos\n",
            "['flor_amarela2', 'mesa1'] \n",
            "['camera4', 'diversao3'] ['flor_rosa1', 'flor_roxa5'] ['neve5', 'objeto4', 'pincel3'] \n",
            "['cafe3', 'camera1'] ['computador2', 'computador5'] ['doce1', 'doce4'] ['flor_amarela5', 'flor_branca3'] ['flor_rosa4', 'flor_roxa2'] ['frutas3', 'gato3'] ['mesa4', 'neve2'] ['notebook3', 'objeto1'] ['pessoas_flor2', 'pessoas_flor5'] ['pipoca1', 'pipoca4', 'tecnologia2', 'tecnologia5'] \n",
            "['cafe1', 'cafe2'] ['cafe4', 'cafe5'] ['camera2', 'camera3'] ['camera5', 'computador1'] ['computador3', 'computador4'] ['diversao1', 'diversao2'] ['diversao4', 'diversao5'] ['doce2', 'doce3'] ['doce5', 'flor_amarela1'] ['flor_amarela3', 'flor_amarela4'] ['flor_branca1', 'flor_branca2'] ['flor_branca4', 'flor_branca5'] ['flor_rosa2', 'flor_rosa3'] ['flor_rosa5', 'flor_roxa1'] ['flor_roxa3', 'flor_roxa4'] ['frutas1', 'frutas2'] ['frutas4', 'frutas5', 'gato1', 'gato2'] ['gato4', 'gato5'] ['mesa2', 'mesa3'] ['mesa5', 'neve1'] ['neve3', 'neve4'] ['notebook1', 'notebook2'] ['notebook4', 'notebook5'] ['objeto2', 'objeto3'] ['objeto5', 'pessoas_flor1'] ['pessoas_flor3', 'pessoas_flor4'] ['pincel1', 'pincel2'] ['pincel4', 'pincel5'] ['pipoca2', 'pipoca3'] ['pipoca5', 'tecnologia1'] ['tecnologia3', 'tecnologia4'] ['trabalho1', 'trabalho2', 'trabalho3', 'trabalho4', 'trabalho5'] \n"
          ],
          "name": "stdout"
        }
      ]
    },
    {
      "cell_type": "code",
      "metadata": {
        "colab": {
          "base_uri": "https://localhost:8080/"
        },
        "id": "mExQmPyQYiOS",
        "outputId": "4320f0f1-0721-4745-dd76-0f2f1696a57e"
      },
      "source": [
        "####Input do usuário buscando no banco de imagens um catálogo que quer ver####\r\n",
        "string = input('Coloque o catálogo que deseja buscar:')\r\n",
        "\r\n",
        "print('\\n')\r\n",
        "\r\n",
        "ini=time.time()\r\n",
        "procura_na_Arv_B(arvore, string)\r\n",
        "fim=time.time()\r\n",
        "\r\n",
        "print(f'Tempo de execução da busca por um catálogo ({string}): {fim-ini} segundos')"
      ],
      "execution_count": null,
      "outputs": [
        {
          "output_type": "stream",
          "text": [
            "Coloque o catálogo que deseja buscar:jogo\n",
            "\n",
            "\n",
            "O nó jogo1 não foi encontrado\n",
            "\n",
            "O nó jogo2 não foi encontrado\n",
            "\n",
            "O nó jogo3 não foi encontrado\n",
            "\n",
            "O nó jogo4 não foi encontrado\n",
            "\n",
            "O nó jogo5 não foi encontrado\n",
            "\n",
            "Tempo de execução da busca por um catálogo (jogo): 0.001234292984008789 segundos\n"
          ],
          "name": "stdout"
        }
      ]
    }
  ]
}